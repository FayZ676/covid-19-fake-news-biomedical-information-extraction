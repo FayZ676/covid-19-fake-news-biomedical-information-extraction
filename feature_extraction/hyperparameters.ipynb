{
 "cells": [
  {
   "cell_type": "code",
   "execution_count": 2,
   "id": "7e192f2f",
   "metadata": {},
   "outputs": [],
   "source": [
    "import numpy as np\n",
    "import matplotlib.pyplot as plt\n",
    "import pandas as pd\n",
    "from sklearn.model_selection import train_test_split\n",
    "from sklearn.preprocessing import StandardScaler\n",
    "\n",
    "from sklearn.ensemble import AdaBoostClassifier as Ada\n",
    "from sklearn.ensemble import BaggingClassifier\n",
    "from sklearn.tree import DecisionTreeClassifier\n",
    "from sklearn.svm import SVC\n",
    "from sklearn.neighbors import KNeighborsClassifier as KNN\n",
    "from sklearn.linear_model import LogisticRegression\n",
    "from sklearn.naive_bayes import GaussianNB\n",
    "from sklearn.ensemble import RandomForestClassifier\n",
    "from sklearn.linear_model import SGDClassifier as SGDC\n",
    "from sklearn.svm import LinearSVC as LSVC\n",
    "\n",
    "from sklearn.metrics import confusion_matrix, accuracy_score, precision_recall_fscore_support, roc_auc_score\n",
    "\n",
    "from sklearn.experimental import enable_halving_search_cv\n",
    "from sklearn.model_selection import HalvingGridSearchCV"
   ]
  },
  {
   "cell_type": "code",
   "execution_count": 3,
   "id": "4ab64e00",
   "metadata": {},
   "outputs": [],
   "source": [
    "dataset = pd.read_csv(\"Meta_Cus_Sci.csv\")\n",
    "X = dataset.iloc[:, :-1].values\n",
    "y = dataset.iloc[:, -1].values\n",
    "\n",
    "X_train, X_test, y_train, y_test = train_test_split(X, y, test_size = 0.25, random_state = 0)\n",
    "\n",
    "sc = StandardScaler()\n",
    "X_train = sc.fit_transform(X_train)\n",
    "X_test = sc.transform(X_test)"
   ]
  },
  {
   "cell_type": "code",
   "execution_count": 4,
   "id": "d8469ea7",
   "metadata": {},
   "outputs": [],
   "source": [
    "#Random Forest\n",
    "param_grid_rf = {\n",
    "    \"n_estimators\": [50, 100, 200],\n",
    "    \"max_features\": [\"sqrt\", \"log2\"]\n",
    "}\n",
    "\n",
    "rf = RandomForestClassifier(random_state=0)\n",
    "hgscv_rf = HalvingGridSearchCV(\n",
    "    rf,\n",
    "    param_grid_rf,\n",
    "    scoring=\"roc_auc\",\n",
    "    cv=5,\n",
    "    random_state=0,\n",
    ")"
   ]
  },
  {
   "cell_type": "code",
   "execution_count": 5,
   "id": "11fba2a3",
   "metadata": {},
   "outputs": [
    {
     "data": {
      "text/plain": [
       "HalvingGridSearchCV(estimator=RandomForestClassifier(random_state=0),\n",
       "                    param_grid={'max_features': ['sqrt', 'log2'],\n",
       "                                'n_estimators': [50, 100, 200]},\n",
       "                    random_state=0, scoring='roc_auc')"
      ]
     },
     "execution_count": 5,
     "metadata": {},
     "output_type": "execute_result"
    }
   ],
   "source": [
    "hgscv_rf.fit(X_train, y_train)"
   ]
  },
  {
   "cell_type": "code",
   "execution_count": 6,
   "id": "e100e0c4",
   "metadata": {},
   "outputs": [],
   "source": [
    "#Logistic Regression\n",
    "param_grid_lr = {\n",
    "    \"C\": [0.1, 1, 10],\n",
    "    \"penalty\": [\"l2\"]\n",
    "}\n",
    "\n",
    "lr = LogisticRegression(random_state=0)\n",
    "hgscv_lr = HalvingGridSearchCV(\n",
    "    lr,\n",
    "    param_grid_lr,\n",
    "    scoring=\"roc_auc\",\n",
    "    cv=5,\n",
    "    random_state=0,\n",
    ")"
   ]
  },
  {
   "cell_type": "code",
   "execution_count": 7,
   "id": "46c956d2",
   "metadata": {
    "tags": []
   },
   "outputs": [
    {
     "name": "stderr",
     "output_type": "stream",
     "text": [
      "C:\\Users\\22jor\\anaconda3\\lib\\site-packages\\sklearn\\linear_model\\_logistic.py:814: ConvergenceWarning: lbfgs failed to converge (status=1):\n",
      "STOP: TOTAL NO. of ITERATIONS REACHED LIMIT.\n",
      "\n",
      "Increase the number of iterations (max_iter) or scale the data as shown in:\n",
      "    https://scikit-learn.org/stable/modules/preprocessing.html\n",
      "Please also refer to the documentation for alternative solver options:\n",
      "    https://scikit-learn.org/stable/modules/linear_model.html#logistic-regression\n",
      "  n_iter_i = _check_optimize_result(\n",
      "C:\\Users\\22jor\\anaconda3\\lib\\site-packages\\sklearn\\linear_model\\_logistic.py:814: ConvergenceWarning: lbfgs failed to converge (status=1):\n",
      "STOP: TOTAL NO. of ITERATIONS REACHED LIMIT.\n",
      "\n",
      "Increase the number of iterations (max_iter) or scale the data as shown in:\n",
      "    https://scikit-learn.org/stable/modules/preprocessing.html\n",
      "Please also refer to the documentation for alternative solver options:\n",
      "    https://scikit-learn.org/stable/modules/linear_model.html#logistic-regression\n",
      "  n_iter_i = _check_optimize_result(\n",
      "C:\\Users\\22jor\\anaconda3\\lib\\site-packages\\sklearn\\linear_model\\_logistic.py:814: ConvergenceWarning: lbfgs failed to converge (status=1):\n",
      "STOP: TOTAL NO. of ITERATIONS REACHED LIMIT.\n",
      "\n",
      "Increase the number of iterations (max_iter) or scale the data as shown in:\n",
      "    https://scikit-learn.org/stable/modules/preprocessing.html\n",
      "Please also refer to the documentation for alternative solver options:\n",
      "    https://scikit-learn.org/stable/modules/linear_model.html#logistic-regression\n",
      "  n_iter_i = _check_optimize_result(\n"
     ]
    },
    {
     "data": {
      "text/plain": [
       "HalvingGridSearchCV(estimator=LogisticRegression(random_state=0),\n",
       "                    param_grid={'C': [0.1, 1, 10], 'penalty': ['l2']},\n",
       "                    random_state=0, scoring='roc_auc')"
      ]
     },
     "execution_count": 7,
     "metadata": {},
     "output_type": "execute_result"
    }
   ],
   "source": [
    "hgscv_lr.fit(X_train, y_train)"
   ]
  },
  {
   "cell_type": "code",
   "execution_count": 8,
   "id": "70a2de77",
   "metadata": {},
   "outputs": [],
   "source": [
    "#Ada\n",
    "param_grid_ada = {\n",
    "    \"n_estimators\": [50,100,200],\n",
    "    \"learning_rate\": [0.1,0.5,1.0]\n",
    "}\n",
    "\n",
    "ada = Ada(random_state=0)\n",
    "hgscv_ada = HalvingGridSearchCV(\n",
    "    ada,\n",
    "    param_grid_ada,\n",
    "    scoring=\"roc_auc\",\n",
    "    cv=5,\n",
    "    random_state=0,\n",
    ")"
   ]
  },
  {
   "cell_type": "code",
   "execution_count": 9,
   "id": "0ad4fec5",
   "metadata": {},
   "outputs": [
    {
     "data": {
      "text/plain": [
       "HalvingGridSearchCV(estimator=AdaBoostClassifier(random_state=0),\n",
       "                    param_grid={'learning_rate': [0.1, 0.5, 1.0],\n",
       "                                'n_estimators': [50, 100, 200]},\n",
       "                    random_state=0, scoring='roc_auc')"
      ]
     },
     "execution_count": 9,
     "metadata": {},
     "output_type": "execute_result"
    }
   ],
   "source": [
    "hgscv_ada.fit(X_train, y_train)"
   ]
  },
  {
   "cell_type": "code",
   "execution_count": 10,
   "id": "3f63e443",
   "metadata": {},
   "outputs": [],
   "source": [
    "#Bagging\n",
    "param_grid_bag = {\n",
    "    \"n_estimators\": [10,50,100]\n",
    "}\n",
    "\n",
    "bag = BaggingClassifier(random_state=0)\n",
    "hgscv_bag = HalvingGridSearchCV(\n",
    "    bag,\n",
    "    param_grid_bag,\n",
    "    scoring=\"roc_auc\",\n",
    "    cv=5,\n",
    "    random_state=0,\n",
    ")"
   ]
  },
  {
   "cell_type": "code",
   "execution_count": 11,
   "id": "206fbdba",
   "metadata": {},
   "outputs": [
    {
     "data": {
      "text/plain": [
       "HalvingGridSearchCV(estimator=BaggingClassifier(random_state=0),\n",
       "                    param_grid={'n_estimators': [10, 50, 100]}, random_state=0,\n",
       "                    scoring='roc_auc')"
      ]
     },
     "execution_count": 11,
     "metadata": {},
     "output_type": "execute_result"
    }
   ],
   "source": [
    "hgscv_bag.fit(X_train, y_train)"
   ]
  },
  {
   "cell_type": "code",
   "execution_count": 12,
   "id": "68f0af8b",
   "metadata": {},
   "outputs": [],
   "source": [
    "#Decision Tree\n",
    "param_grid_dt = {\n",
    "    \"min_samples_split\": [2,5,10],\n",
    "    \"min_samples_leaf\": [1,2,4]\n",
    "}\n",
    "\n",
    "dt = DecisionTreeClassifier(random_state=0)\n",
    "hgscv_dt = HalvingGridSearchCV(\n",
    "    dt,\n",
    "    param_grid_dt,\n",
    "    scoring=\"roc_auc\",\n",
    "    cv=5,\n",
    "    random_state=0,\n",
    ")"
   ]
  },
  {
   "cell_type": "code",
   "execution_count": 13,
   "id": "178c78ab",
   "metadata": {},
   "outputs": [
    {
     "data": {
      "text/plain": [
       "HalvingGridSearchCV(estimator=DecisionTreeClassifier(random_state=0),\n",
       "                    param_grid={'min_samples_leaf': [1, 2, 4],\n",
       "                                'min_samples_split': [2, 5, 10]},\n",
       "                    random_state=0, scoring='roc_auc')"
      ]
     },
     "execution_count": 13,
     "metadata": {},
     "output_type": "execute_result"
    }
   ],
   "source": [
    "hgscv_dt.fit(X_train, y_train)"
   ]
  },
  {
   "cell_type": "code",
   "execution_count": 14,
   "id": "14cb38e9",
   "metadata": {},
   "outputs": [],
   "source": [
    "#SVC (RBF)\n",
    "param_grid_rbf = {\n",
    "    \"C\": [0.1, 1 ,5,10]\n",
    "}\n",
    "\n",
    "rbf = SVC(kernel = 'rbf', random_state=0)\n",
    "hgscv_rbf = HalvingGridSearchCV(\n",
    "    rbf,\n",
    "    param_grid_rbf,\n",
    "    scoring=\"roc_auc\",\n",
    "    cv=5,\n",
    "    random_state=0,\n",
    ")"
   ]
  },
  {
   "cell_type": "code",
   "execution_count": 15,
   "id": "96c2e594",
   "metadata": {},
   "outputs": [
    {
     "data": {
      "text/plain": [
       "HalvingGridSearchCV(estimator=SVC(random_state=0),\n",
       "                    param_grid={'C': [0.1, 1, 5, 10]}, random_state=0,\n",
       "                    scoring='roc_auc')"
      ]
     },
     "execution_count": 15,
     "metadata": {},
     "output_type": "execute_result"
    }
   ],
   "source": [
    "hgscv_rbf.fit(X_train, y_train)"
   ]
  },
  {
   "cell_type": "code",
   "execution_count": 16,
   "id": "8c914091",
   "metadata": {},
   "outputs": [],
   "source": [
    "#SVC (poly)\n",
    "param_grid_poly = {\n",
    "    \"C\": [0.1, 1 ,5,10]\n",
    "}\n",
    "\n",
    "poly = SVC(kernel = 'poly', random_state=0)\n",
    "hgscv_poly = HalvingGridSearchCV(\n",
    "    poly,\n",
    "    param_grid_poly,\n",
    "    scoring=\"roc_auc\",\n",
    "    cv=5,\n",
    "    random_state=0,\n",
    ")"
   ]
  },
  {
   "cell_type": "code",
   "execution_count": 17,
   "id": "9e1aa565",
   "metadata": {},
   "outputs": [
    {
     "data": {
      "text/plain": [
       "HalvingGridSearchCV(estimator=SVC(kernel='poly', random_state=0),\n",
       "                    param_grid={'C': [0.1, 1, 5, 10]}, random_state=0,\n",
       "                    scoring='roc_auc')"
      ]
     },
     "execution_count": 17,
     "metadata": {},
     "output_type": "execute_result"
    }
   ],
   "source": [
    "hgscv_poly.fit(X_train, y_train)"
   ]
  },
  {
   "cell_type": "code",
   "execution_count": 18,
   "id": "94643ae4",
   "metadata": {},
   "outputs": [],
   "source": [
    "#SVC (sigmoid)\n",
    "param_grid_sigmoid = {\n",
    "    \"C\": [0.1, 1 ,5,10]\n",
    "}\n",
    "\n",
    "sigmoid = SVC(kernel = 'sigmoid', random_state=0)\n",
    "hgscv_sigmoid = HalvingGridSearchCV(\n",
    "    sigmoid,\n",
    "    param_grid_rbf,\n",
    "    scoring=\"roc_auc\",\n",
    "    cv=5,\n",
    "    random_state=0,\n",
    ")"
   ]
  },
  {
   "cell_type": "code",
   "execution_count": 19,
   "id": "6b5d2978",
   "metadata": {},
   "outputs": [
    {
     "data": {
      "text/plain": [
       "HalvingGridSearchCV(estimator=SVC(kernel='sigmoid', random_state=0),\n",
       "                    param_grid={'C': [0.1, 1, 5, 10]}, random_state=0,\n",
       "                    scoring='roc_auc')"
      ]
     },
     "execution_count": 19,
     "metadata": {},
     "output_type": "execute_result"
    }
   ],
   "source": [
    "hgscv_sigmoid.fit(X_train, y_train)"
   ]
  },
  {
   "cell_type": "code",
   "execution_count": 20,
   "id": "d1976b6a",
   "metadata": {},
   "outputs": [],
   "source": [
    "#KNN\n",
    "param_grid_knn = {\n",
    "    \"n_neighbors\": [3,5,7,9],\n",
    "    \"weights\": ['uniform', 'distance']\n",
    "}\n",
    "\n",
    "knn = KNN()\n",
    "hgscv_knn = HalvingGridSearchCV(\n",
    "    knn,\n",
    "    param_grid_knn,\n",
    "    scoring=\"roc_auc\",\n",
    "    cv=5,\n",
    "    random_state=0,\n",
    ")"
   ]
  },
  {
   "cell_type": "code",
   "execution_count": 21,
   "id": "6ec88f97",
   "metadata": {
    "tags": []
   },
   "outputs": [
    {
     "data": {
      "text/plain": [
       "HalvingGridSearchCV(estimator=KNeighborsClassifier(),\n",
       "                    param_grid={'n_neighbors': [3, 5, 7, 9],\n",
       "                                'weights': ['uniform', 'distance']},\n",
       "                    random_state=0, scoring='roc_auc')"
      ]
     },
     "execution_count": 21,
     "metadata": {},
     "output_type": "execute_result"
    }
   ],
   "source": [
    "hgscv_knn.fit(X_train, y_train)"
   ]
  },
  {
   "cell_type": "code",
   "execution_count": 22,
   "id": "cfe371d7",
   "metadata": {},
   "outputs": [],
   "source": [
    "#NB\n",
    "param_grid_nb = {\n",
    "    \"var_smoothing\": [1.0, 5.0, 10.0]\n",
    "}\n",
    "\n",
    "nb = GaussianNB()\n",
    "hgscv_nb = HalvingGridSearchCV(\n",
    "    nb,\n",
    "    param_grid_nb,\n",
    "    scoring=\"roc_auc\",\n",
    "    cv=5,\n",
    "    random_state=0,\n",
    ")"
   ]
  },
  {
   "cell_type": "code",
   "execution_count": 23,
   "id": "7e97a1e5",
   "metadata": {},
   "outputs": [
    {
     "data": {
      "text/plain": [
       "HalvingGridSearchCV(estimator=GaussianNB(),\n",
       "                    param_grid={'var_smoothing': [1.0, 5.0, 10.0]},\n",
       "                    random_state=0, scoring='roc_auc')"
      ]
     },
     "execution_count": 23,
     "metadata": {},
     "output_type": "execute_result"
    }
   ],
   "source": [
    "hgscv_nb.fit(X_train, y_train)"
   ]
  },
  {
   "cell_type": "code",
   "execution_count": 24,
   "id": "b9dd43d1",
   "metadata": {},
   "outputs": [],
   "source": [
    "#SGDClassifier_L1\n",
    "param_grid_sgdcL1 = {\n",
    "    \"learning_rate\": ['constant', 'optimal', 'invscaling']\n",
    "}\n",
    "\n",
    "sgdcL1 = SGDC(penalty = 'l1', random_state=0,eta0 = 1)\n",
    "hgscv_sgdcL1 = HalvingGridSearchCV(\n",
    "    sgdcL1,\n",
    "    param_grid_sgdcL1,\n",
    "    scoring=\"roc_auc\",\n",
    "    cv=5,\n",
    "    random_state=0,\n",
    ")"
   ]
  },
  {
   "cell_type": "code",
   "execution_count": 25,
   "id": "7e4d24fd",
   "metadata": {
    "tags": []
   },
   "outputs": [
    {
     "data": {
      "text/plain": [
       "HalvingGridSearchCV(estimator=SGDClassifier(eta0=1, penalty='l1',\n",
       "                                            random_state=0),\n",
       "                    param_grid={'learning_rate': ['constant', 'optimal',\n",
       "                                                  'invscaling']},\n",
       "                    random_state=0, scoring='roc_auc')"
      ]
     },
     "execution_count": 25,
     "metadata": {},
     "output_type": "execute_result"
    }
   ],
   "source": [
    "hgscv_sgdcL1.fit(X_train, y_train)"
   ]
  },
  {
   "cell_type": "code",
   "execution_count": 26,
   "id": "85afd32c",
   "metadata": {},
   "outputs": [],
   "source": [
    "#SGDClassifier_L2\n",
    "param_grid_sgdcL2 = {\n",
    "    \"learning_rate\": ['constant', 'optimal', 'invscaling']\n",
    "}\n",
    "\n",
    "sgdcL2 = SGDC(penalty = 'l2', random_state=0, eta0 = 1)\n",
    "hgscv_sgdcL2 = HalvingGridSearchCV(\n",
    "    sgdcL2,\n",
    "    param_grid_sgdcL2,\n",
    "    scoring=\"roc_auc\",\n",
    "    cv=5,\n",
    "    random_state=0,\n",
    ")"
   ]
  },
  {
   "cell_type": "code",
   "execution_count": 27,
   "id": "9ca3562a",
   "metadata": {},
   "outputs": [
    {
     "data": {
      "text/plain": [
       "HalvingGridSearchCV(estimator=SGDClassifier(eta0=1, random_state=0),\n",
       "                    param_grid={'learning_rate': ['constant', 'optimal',\n",
       "                                                  'invscaling']},\n",
       "                    random_state=0, scoring='roc_auc')"
      ]
     },
     "execution_count": 27,
     "metadata": {},
     "output_type": "execute_result"
    }
   ],
   "source": [
    "hgscv_sgdcL2.fit(X_train, y_train)"
   ]
  },
  {
   "cell_type": "code",
   "execution_count": 28,
   "id": "c10cd5d8",
   "metadata": {},
   "outputs": [],
   "source": [
    "#SGDClassifier_EN\n",
    "param_grid_sgdcEN = {\n",
    "    \"learning_rate\": ['constant', 'optimal', 'invscaling']\n",
    "}\n",
    "\n",
    "sgdcEN = SGDC(penalty = 'elasticnet', random_state=0, eta0 = 1)\n",
    "hgscv_sgdcEN = HalvingGridSearchCV(\n",
    "    sgdcEN,\n",
    "    param_grid_sgdcEN,\n",
    "    scoring=\"roc_auc\",\n",
    "    cv=5,\n",
    "    random_state=0,\n",
    ")"
   ]
  },
  {
   "cell_type": "code",
   "execution_count": 29,
   "id": "6de28050",
   "metadata": {
    "tags": []
   },
   "outputs": [
    {
     "data": {
      "text/plain": [
       "HalvingGridSearchCV(estimator=SGDClassifier(eta0=1, penalty='elasticnet',\n",
       "                                            random_state=0),\n",
       "                    param_grid={'learning_rate': ['constant', 'optimal',\n",
       "                                                  'invscaling']},\n",
       "                    random_state=0, scoring='roc_auc')"
      ]
     },
     "execution_count": 29,
     "metadata": {},
     "output_type": "execute_result"
    }
   ],
   "source": [
    "hgscv_sgdcEN.fit(X_train, y_train)"
   ]
  },
  {
   "cell_type": "code",
   "execution_count": 30,
   "id": "050a6379",
   "metadata": {},
   "outputs": [],
   "source": [
    "#LinearSVC_L1\n",
    "param_grid_lsvcL1 = {\n",
    "    \"C\": [1,1,10,100]\n",
    "}\n",
    "\n",
    "lsvcL1 = LSVC(penalty = 'l1', random_state=0, loss=\"squared_hinge\", dual = False)\n",
    "hgscv_lsvcL1 = HalvingGridSearchCV(\n",
    "    lsvcL1,\n",
    "    param_grid_lsvcL1,\n",
    "    scoring=\"roc_auc\",\n",
    "    cv=5,\n",
    "    random_state=0,\n",
    ")"
   ]
  },
  {
   "cell_type": "code",
   "execution_count": 31,
   "id": "970ced25",
   "metadata": {
    "tags": []
   },
   "outputs": [
    {
     "name": "stderr",
     "output_type": "stream",
     "text": [
      "C:\\Users\\22jor\\anaconda3\\lib\\site-packages\\sklearn\\svm\\_base.py:1206: ConvergenceWarning: Liblinear failed to converge, increase the number of iterations.\n",
      "  warnings.warn(\n",
      "C:\\Users\\22jor\\anaconda3\\lib\\site-packages\\sklearn\\svm\\_base.py:1206: ConvergenceWarning: Liblinear failed to converge, increase the number of iterations.\n",
      "  warnings.warn(\n",
      "C:\\Users\\22jor\\anaconda3\\lib\\site-packages\\sklearn\\svm\\_base.py:1206: ConvergenceWarning: Liblinear failed to converge, increase the number of iterations.\n",
      "  warnings.warn(\n",
      "C:\\Users\\22jor\\anaconda3\\lib\\site-packages\\sklearn\\svm\\_base.py:1206: ConvergenceWarning: Liblinear failed to converge, increase the number of iterations.\n",
      "  warnings.warn(\n",
      "C:\\Users\\22jor\\anaconda3\\lib\\site-packages\\sklearn\\svm\\_base.py:1206: ConvergenceWarning: Liblinear failed to converge, increase the number of iterations.\n",
      "  warnings.warn(\n",
      "C:\\Users\\22jor\\anaconda3\\lib\\site-packages\\sklearn\\svm\\_base.py:1206: ConvergenceWarning: Liblinear failed to converge, increase the number of iterations.\n",
      "  warnings.warn(\n",
      "C:\\Users\\22jor\\anaconda3\\lib\\site-packages\\sklearn\\svm\\_base.py:1206: ConvergenceWarning: Liblinear failed to converge, increase the number of iterations.\n",
      "  warnings.warn(\n",
      "C:\\Users\\22jor\\anaconda3\\lib\\site-packages\\sklearn\\svm\\_base.py:1206: ConvergenceWarning: Liblinear failed to converge, increase the number of iterations.\n",
      "  warnings.warn(\n",
      "C:\\Users\\22jor\\anaconda3\\lib\\site-packages\\sklearn\\svm\\_base.py:1206: ConvergenceWarning: Liblinear failed to converge, increase the number of iterations.\n",
      "  warnings.warn(\n",
      "C:\\Users\\22jor\\anaconda3\\lib\\site-packages\\sklearn\\svm\\_base.py:1206: ConvergenceWarning: Liblinear failed to converge, increase the number of iterations.\n",
      "  warnings.warn(\n",
      "C:\\Users\\22jor\\anaconda3\\lib\\site-packages\\sklearn\\svm\\_base.py:1206: ConvergenceWarning: Liblinear failed to converge, increase the number of iterations.\n",
      "  warnings.warn(\n",
      "C:\\Users\\22jor\\anaconda3\\lib\\site-packages\\sklearn\\svm\\_base.py:1206: ConvergenceWarning: Liblinear failed to converge, increase the number of iterations.\n",
      "  warnings.warn(\n",
      "C:\\Users\\22jor\\anaconda3\\lib\\site-packages\\sklearn\\svm\\_base.py:1206: ConvergenceWarning: Liblinear failed to converge, increase the number of iterations.\n",
      "  warnings.warn(\n",
      "C:\\Users\\22jor\\anaconda3\\lib\\site-packages\\sklearn\\svm\\_base.py:1206: ConvergenceWarning: Liblinear failed to converge, increase the number of iterations.\n",
      "  warnings.warn(\n",
      "C:\\Users\\22jor\\anaconda3\\lib\\site-packages\\sklearn\\svm\\_base.py:1206: ConvergenceWarning: Liblinear failed to converge, increase the number of iterations.\n",
      "  warnings.warn(\n",
      "C:\\Users\\22jor\\anaconda3\\lib\\site-packages\\sklearn\\svm\\_base.py:1206: ConvergenceWarning: Liblinear failed to converge, increase the number of iterations.\n",
      "  warnings.warn(\n",
      "C:\\Users\\22jor\\anaconda3\\lib\\site-packages\\sklearn\\svm\\_base.py:1206: ConvergenceWarning: Liblinear failed to converge, increase the number of iterations.\n",
      "  warnings.warn(\n",
      "C:\\Users\\22jor\\anaconda3\\lib\\site-packages\\sklearn\\svm\\_base.py:1206: ConvergenceWarning: Liblinear failed to converge, increase the number of iterations.\n",
      "  warnings.warn(\n",
      "C:\\Users\\22jor\\anaconda3\\lib\\site-packages\\sklearn\\svm\\_base.py:1206: ConvergenceWarning: Liblinear failed to converge, increase the number of iterations.\n",
      "  warnings.warn(\n",
      "C:\\Users\\22jor\\anaconda3\\lib\\site-packages\\sklearn\\svm\\_base.py:1206: ConvergenceWarning: Liblinear failed to converge, increase the number of iterations.\n",
      "  warnings.warn(\n",
      "C:\\Users\\22jor\\anaconda3\\lib\\site-packages\\sklearn\\svm\\_base.py:1206: ConvergenceWarning: Liblinear failed to converge, increase the number of iterations.\n",
      "  warnings.warn(\n",
      "C:\\Users\\22jor\\anaconda3\\lib\\site-packages\\sklearn\\svm\\_base.py:1206: ConvergenceWarning: Liblinear failed to converge, increase the number of iterations.\n",
      "  warnings.warn(\n"
     ]
    },
    {
     "data": {
      "text/plain": [
       "HalvingGridSearchCV(estimator=LinearSVC(dual=False, penalty='l1',\n",
       "                                        random_state=0),\n",
       "                    param_grid={'C': [1, 1, 10, 100]}, random_state=0,\n",
       "                    scoring='roc_auc')"
      ]
     },
     "execution_count": 31,
     "metadata": {},
     "output_type": "execute_result"
    }
   ],
   "source": [
    "hgscv_lsvcL1.fit(X_train, y_train)"
   ]
  },
  {
   "cell_type": "code",
   "execution_count": 32,
   "id": "e1414740",
   "metadata": {},
   "outputs": [],
   "source": [
    "#LinearSVC_L2\n",
    "param_grid_lsvcL2 = {\n",
    "    \"C\": [1,10,100]\n",
    "}\n",
    "\n",
    "lsvcL2 = LSVC(penalty = 'l2', random_state=0)\n",
    "hgscv_lsvcL2 = HalvingGridSearchCV(\n",
    "    lsvcL2,\n",
    "    param_grid_lsvcL2,\n",
    "    scoring=\"roc_auc\",\n",
    "    cv=5,\n",
    "    random_state=0,\n",
    ")"
   ]
  },
  {
   "cell_type": "code",
   "execution_count": 33,
   "id": "328dc0a9",
   "metadata": {
    "tags": []
   },
   "outputs": [
    {
     "name": "stderr",
     "output_type": "stream",
     "text": [
      "C:\\Users\\22jor\\anaconda3\\lib\\site-packages\\sklearn\\svm\\_base.py:1206: ConvergenceWarning: Liblinear failed to converge, increase the number of iterations.\n",
      "  warnings.warn(\n",
      "C:\\Users\\22jor\\anaconda3\\lib\\site-packages\\sklearn\\svm\\_base.py:1206: ConvergenceWarning: Liblinear failed to converge, increase the number of iterations.\n",
      "  warnings.warn(\n",
      "C:\\Users\\22jor\\anaconda3\\lib\\site-packages\\sklearn\\svm\\_base.py:1206: ConvergenceWarning: Liblinear failed to converge, increase the number of iterations.\n",
      "  warnings.warn(\n",
      "C:\\Users\\22jor\\anaconda3\\lib\\site-packages\\sklearn\\svm\\_base.py:1206: ConvergenceWarning: Liblinear failed to converge, increase the number of iterations.\n",
      "  warnings.warn(\n",
      "C:\\Users\\22jor\\anaconda3\\lib\\site-packages\\sklearn\\svm\\_base.py:1206: ConvergenceWarning: Liblinear failed to converge, increase the number of iterations.\n",
      "  warnings.warn(\n",
      "C:\\Users\\22jor\\anaconda3\\lib\\site-packages\\sklearn\\svm\\_base.py:1206: ConvergenceWarning: Liblinear failed to converge, increase the number of iterations.\n",
      "  warnings.warn(\n",
      "C:\\Users\\22jor\\anaconda3\\lib\\site-packages\\sklearn\\svm\\_base.py:1206: ConvergenceWarning: Liblinear failed to converge, increase the number of iterations.\n",
      "  warnings.warn(\n",
      "C:\\Users\\22jor\\anaconda3\\lib\\site-packages\\sklearn\\svm\\_base.py:1206: ConvergenceWarning: Liblinear failed to converge, increase the number of iterations.\n",
      "  warnings.warn(\n",
      "C:\\Users\\22jor\\anaconda3\\lib\\site-packages\\sklearn\\svm\\_base.py:1206: ConvergenceWarning: Liblinear failed to converge, increase the number of iterations.\n",
      "  warnings.warn(\n",
      "C:\\Users\\22jor\\anaconda3\\lib\\site-packages\\sklearn\\svm\\_base.py:1206: ConvergenceWarning: Liblinear failed to converge, increase the number of iterations.\n",
      "  warnings.warn(\n",
      "C:\\Users\\22jor\\anaconda3\\lib\\site-packages\\sklearn\\svm\\_base.py:1206: ConvergenceWarning: Liblinear failed to converge, increase the number of iterations.\n",
      "  warnings.warn(\n",
      "C:\\Users\\22jor\\anaconda3\\lib\\site-packages\\sklearn\\svm\\_base.py:1206: ConvergenceWarning: Liblinear failed to converge, increase the number of iterations.\n",
      "  warnings.warn(\n",
      "C:\\Users\\22jor\\anaconda3\\lib\\site-packages\\sklearn\\svm\\_base.py:1206: ConvergenceWarning: Liblinear failed to converge, increase the number of iterations.\n",
      "  warnings.warn(\n",
      "C:\\Users\\22jor\\anaconda3\\lib\\site-packages\\sklearn\\svm\\_base.py:1206: ConvergenceWarning: Liblinear failed to converge, increase the number of iterations.\n",
      "  warnings.warn(\n",
      "C:\\Users\\22jor\\anaconda3\\lib\\site-packages\\sklearn\\svm\\_base.py:1206: ConvergenceWarning: Liblinear failed to converge, increase the number of iterations.\n",
      "  warnings.warn(\n",
      "C:\\Users\\22jor\\anaconda3\\lib\\site-packages\\sklearn\\svm\\_base.py:1206: ConvergenceWarning: Liblinear failed to converge, increase the number of iterations.\n",
      "  warnings.warn(\n",
      "C:\\Users\\22jor\\anaconda3\\lib\\site-packages\\sklearn\\svm\\_base.py:1206: ConvergenceWarning: Liblinear failed to converge, increase the number of iterations.\n",
      "  warnings.warn(\n",
      "C:\\Users\\22jor\\anaconda3\\lib\\site-packages\\sklearn\\svm\\_base.py:1206: ConvergenceWarning: Liblinear failed to converge, increase the number of iterations.\n",
      "  warnings.warn(\n"
     ]
    },
    {
     "data": {
      "text/plain": [
       "HalvingGridSearchCV(estimator=LinearSVC(random_state=0),\n",
       "                    param_grid={'C': [1, 10, 100]}, random_state=0,\n",
       "                    scoring='roc_auc')"
      ]
     },
     "execution_count": 33,
     "metadata": {},
     "output_type": "execute_result"
    }
   ],
   "source": [
    "hgscv_lsvcL2.fit(X_train, y_train)"
   ]
  },
  {
   "cell_type": "code",
   "execution_count": 34,
   "id": "b4235a40",
   "metadata": {},
   "outputs": [],
   "source": [
    "rfh = list(hgscv_rf.best_params_.values())\n",
    "lrh = list(hgscv_lr.best_params_.values())\n",
    "adah = list(hgscv_ada.best_params_.values())\n",
    "bagh = list(hgscv_bag.best_params_.values())\n",
    "dth = list(hgscv_dt.best_params_.values())\n",
    "rbfh = list(hgscv_rbf.best_params_.values())\n",
    "polyh = list(hgscv_poly.best_params_.values())\n",
    "sigmoidh = list(hgscv_sigmoid.best_params_.values())\n",
    "knnh = list(hgscv_knn.best_params_.values())\n",
    "nbh = list(hgscv_nb.best_params_.values())\n",
    "sgdcL1h = list(hgscv_sgdcL1.best_params_.values())\n",
    "sgdcL2h = list(hgscv_sgdcL2.best_params_.values())\n",
    "sgdcENh = list(hgscv_sgdcEN.best_params_.values())\n",
    "lsvcL1h = list(hgscv_lsvcL1.best_params_.values())\n",
    "lsvcl2h = list(hgscv_lsvcL2.best_params_.values())"
   ]
  },
  {
   "cell_type": "code",
   "execution_count": 36,
   "id": "a869400e-5d59-48df-a335-1e0e13544340",
   "metadata": {},
   "outputs": [
    {
     "data": {
      "text/plain": [
       "LinearSVC(C=1, dual=False, random_state=0)"
      ]
     },
     "execution_count": 36,
     "metadata": {},
     "output_type": "execute_result"
    }
   ],
   "source": [
    "rf = RandomForestClassifier(n_estimators = rfh[1], random_state = 0,max_features = f'{rfh[0]}')\n",
    "rf.fit(X_train, y_train)\n",
    "\n",
    "lf = LogisticRegression(C = lrh[0], penalty = f'{lrh[1]}', random_state = 0)\n",
    "lf.fit(X_train, y_train)\n",
    "\n",
    "ada = Ada(n_estimators = adah[1], learning_rate= adah[0])\n",
    "ada.fit(X_train, y_train)\n",
    "\n",
    "bag = BaggingClassifier(n_estimators = bagh[0])\n",
    "bag.fit(X_train, y_train)\n",
    "\n",
    "dt = DecisionTreeClassifier(min_samples_leaf = dth[0], min_samples_split = dth[1], random_state = 0)\n",
    "dt.fit(X_train, y_train)\n",
    "\n",
    "rbf = SVC(kernel = 'rbf', random_state = 0, probability = True, C = rbfh[0])\n",
    "rbf.fit(X_train, y_train)\n",
    "\n",
    "poly = SVC(kernel = 'poly', random_state = 0, probability = True, C = polyh[0])\n",
    "poly.fit(X_train, y_train)\n",
    "\n",
    "sig = SVC(kernel = 'sigmoid', random_state = 0, probability = True, C = sigmoidh[0])\n",
    "sig.fit(X_train, y_train)\n",
    "\n",
    "knn = KNN(n_neighbors = knnh[0], weights = f'{knnh[1]}')\n",
    "knn.fit(X_train, y_train)\n",
    "\n",
    "nb = GaussianNB(var_smoothing = nbh[0])\n",
    "nb.fit(X_train, y_train)\n",
    "\n",
    "sgdcL1 = SGDC(learning_rate = f'{sgdcL1h[0]}', random_state=0, penalty='l1', eta0  = 1, loss = 'modified_huber')\n",
    "sgdcL1.fit(X_train, y_train)\n",
    "\n",
    "sgdcL2 = SGDC(learning_rate = f'{sgdcL2h[0]}', random_state=0, penalty='l1', eta0  = 1, loss = 'modified_huber')\n",
    "sgdcL2.fit(X_train, y_train)\n",
    "\n",
    "sgdcEN = SGDC(learning_rate = f'{sgdcENh[0]}', random_state=0, penalty='l1', eta0  = 1, loss = 'modified_huber')\n",
    "sgdcEN.fit(X_train, y_train)\n",
    "\n",
    "lsvcL1 = LSVC(random_state = 0, penalty = \"l1\", loss=\"squared_hinge\", dual = False, C = lsvcL1h[0])\n",
    "lsvcL1.fit(X_train, y_train)\n",
    "\n",
    "lsvcl2 = LSVC(random_state = 0, penalty = \"l2\", dual = False, loss=\"squared_hinge\", C = lsvcl2h[0])\n",
    "lsvcl2.fit(X_train, y_train)"
   ]
  },
  {
   "cell_type": "markdown",
   "id": "3c15e5ca-8a42-468c-b194-e0abdcc01308",
   "metadata": {},
   "source": [
    "# calculations"
   ]
  },
  {
   "cell_type": "code",
   "execution_count": null,
   "id": "deb65966-1b25-4aa7-bc5d-4af2b00351bb",
   "metadata": {},
   "outputs": [],
   "source": [
    "rfy_pred = rf.predict(X_test)\n",
    "rfcm = confusion_matrix(y_test, rfy_pred)\n",
    "rfacc = accuracy_score(y_test, rfy_pred)\n",
    "rfpre, rfre, rff, rfsup = precision_recall_fscore_support(y_test, rfy_pred)\n",
    "rfy_proba = rf.predict_proba(X_test)[:, 1]\n",
    "rfroc = roc_auc_score(y_test, rfy_proba)\n",
    "tp, fp, fn, tn = rfcm.ravel()\n",
    "rfspeci = tn / (tn + fp)\n",
    "\n",
    "lfy_pred = lf.predict(X_test)\n",
    "lfcm = confusion_matrix(y_test, lfy_pred)\n",
    "lfacc = accuracy_score(y_test, lfy_pred)\n",
    "lfpre, lfre, lff, lfsup = precision_recall_fscore_support(y_test, lfy_pred)\n",
    "lfy_proba = lf.predict_proba(X_test)[:, 1]\n",
    "lfroc = roc_auc_score(y_test, lfy_proba)\n",
    "tp, fp, fn, tn = lfcm.ravel()\n",
    "lfspeci = tn / (tn + fp)\n",
    "\n",
    "aday_pred = ada.predict(X_test)\n",
    "adacm = confusion_matrix(y_test, aday_pred)\n",
    "adaacc = accuracy_score(y_test, aday_pred)\n",
    "adapre, adare, adaf, adasup = precision_recall_fscore_support(y_test, aday_pred)\n",
    "aday_proba = ada.predict_proba(X_test)[:, 1]\n",
    "adaroc = roc_auc_score(y_test, aday_proba)\n",
    "tp, fp, fn, tn = adacm.ravel()\n",
    "adaspeci = tn / (tn + fp)\n",
    "\n",
    "bagy_pred = bag.predict(X_test)\n",
    "bagcm = confusion_matrix(y_test, bagy_pred)\n",
    "bagacc = accuracy_score(y_test, bagy_pred)\n",
    "bagpre, bagre, bagf, bagsup = precision_recall_fscore_support(y_test, bagy_pred)\n",
    "bagy_proba = bag.predict_proba(X_test)[:, 1]\n",
    "bagroc = roc_auc_score(y_test, bagy_proba)\n",
    "tp, fp, fn, tn = bagcm.ravel()\n",
    "bagspeci = tn / (tn + fp)\n",
    "\n",
    "dty_pred = dt.predict(X_test)\n",
    "dtcm = confusion_matrix(y_test, dty_pred)\n",
    "dtacc = accuracy_score(y_test, dty_pred)\n",
    "dtpre,dtre, dtf, dtsup = precision_recall_fscore_support(y_test, dty_pred)\n",
    "dty_proba = dt.predict_proba(X_test)[:, 1]\n",
    "dtroc = roc_auc_score(y_test, dty_proba)\n",
    "tp, fp, fn, tn = dtcm.ravel()\n",
    "dtspeci = tn / (tn + fp)\n",
    "\n",
    "rbfy_pred = rbf.predict(X_test)\n",
    "rbfcm = confusion_matrix(y_test, rbfy_pred)\n",
    "rbfacc = accuracy_score(y_test, rbfy_pred)\n",
    "rbfpre, rbfre, rbff, rbfsup = precision_recall_fscore_support(y_test, rbfy_pred)\n",
    "rbfy_proba = rbf.predict_proba(X_test)[:, 1]\n",
    "rbfroc = roc_auc_score(y_test, rbfy_proba)\n",
    "tp, fp, fn, tn = rbfcm.ravel()\n",
    "rbfspeci = tn / (tn + fp)\n",
    "\n",
    "polyy_pred = poly.predict(X_test)\n",
    "polycm = confusion_matrix(y_test, polyy_pred)\n",
    "polyacc = accuracy_score(y_test, polyy_pred)\n",
    "polypre, polyre, polyf, polysup = precision_recall_fscore_support(y_test, polyy_pred)\n",
    "polyy_proba = poly.predict_proba(X_test)[:, 1]\n",
    "polyroc = roc_auc_score(y_test, polyy_proba)\n",
    "tp, fp, fn, tn = polycm.ravel()\n",
    "polyspeci = tn / (tn + fp)\n",
    "\n",
    "sigy_pred = sig.predict(X_test)\n",
    "sigcm = confusion_matrix(y_test, sigy_pred)\n",
    "sigacc = accuracy_score(y_test, sigy_pred)\n",
    "sigpre, sigre, sigf, sigsup = precision_recall_fscore_support(y_test, sigy_pred)\n",
    "sigy_proba = sig.predict_proba(X_test)[:, 1]\n",
    "sigroc = roc_auc_score(y_test, sigy_proba)\n",
    "tp, fp, fn, tn = sigcm.ravel()\n",
    "sigspeci = tn / (tn + fp)\n",
    "\n",
    "knny_pred = knn.predict(X_test)\n",
    "knncm = confusion_matrix(y_test, knny_pred)\n",
    "knnacc = accuracy_score(y_test, knny_pred)\n",
    "knnpre, knnre, knnf, knnsup = precision_recall_fscore_support(y_test, knny_pred)\n",
    "knny_proba = knn.predict_proba(X_test)[:, 1]\n",
    "knnroc = roc_auc_score(y_test, knny_proba)\n",
    "tp, fp, fn, tn = knncm.ravel()\n",
    "knnspeci = tn / (tn + fp)\n",
    "\n",
    "nby_pred = nb.predict(X_test)\n",
    "nbcm = confusion_matrix(y_test, nby_pred)\n",
    "nbacc = accuracy_score(y_test, nby_pred)\n",
    "nbpre, nbre, nbf, nbsup = precision_recall_fscore_support(y_test, nby_pred)\n",
    "nby_proba = nb.predict_proba(X_test)[:, 1]\n",
    "nbroc = roc_auc_score(y_test, nby_proba)\n",
    "tp, fp, fn, tn = nbcm.ravel()\n",
    "nbspeci = tn / (tn + fp)\n",
    "\n",
    "sgdcL1y_pred = sgdcL1.predict(X_test)\n",
    "sgdcL1cm = confusion_matrix(y_test, sgdcL1y_pred)\n",
    "sgdcL1acc = accuracy_score(y_test, sgdcL1y_pred)\n",
    "sgdcL1pre, sgdcL1re, sgdcL1f, sgdcL1sup = precision_recall_fscore_support(y_test, sgdcL1y_pred)\n",
    "sgdcL1y_proba = sgdcL1.predict_proba(X_test)[:, 1]\n",
    "sgdcL1roc = roc_auc_score(y_test, sgdcL1y_proba)\n",
    "tp, fp, fn, tn = sgdcL1cm.ravel()\n",
    "sgdcL1speci = tn / (tn + fp)\n",
    "\n",
    "sgdcL2y_pred = sgdcL2.predict(X_test)\n",
    "sgdcL2cm = confusion_matrix(y_test, sgdcL2y_pred)\n",
    "sgdcL2acc = accuracy_score(y_test, sgdcL2y_pred)\n",
    "sgdcL2pre, sgdcL2re, sgdcL2f, sgdcL2sup = precision_recall_fscore_support(y_test, sgdcL2y_pred)\n",
    "sgdcL2y_proba = sgdcL2.predict_proba(X_test)[:, 1]\n",
    "sgdcL2roc = roc_auc_score(y_test, sgdcL2y_proba)\n",
    "tp, fp, fn, tn = sgdcL2cm.ravel()\n",
    "sgdcL2speci = tn / (tn + fp)\n",
    "\n",
    "sgdcENy_pred = sgdcEN.predict(X_test)\n",
    "sgdcENcm = confusion_matrix(y_test, sgdcENy_pred)\n",
    "sgdcENacc = accuracy_score(y_test, sgdcENy_pred)\n",
    "sgdcENpre, sgdcENre, sgdcENf, sgdcENsup = precision_recall_fscore_support(y_test, sgdcENy_pred)\n",
    "sgdcENy_proba = sgdcEN.predict_proba(X_test)[:, 1]\n",
    "sgdcENroc = roc_auc_score(y_test, sgdcENy_proba)\n",
    "tp, fp, fn, tn = sgdcENcm.ravel()\n",
    "sgdcENspeci = tn / (tn + fp)\n",
    "\n",
    "lsvcL1y_pred = lsvcL1.predict(X_test)\n",
    "lsvcL1cm = confusion_matrix(y_test, lsvcL1y_pred)\n",
    "lsvcL1acc = accuracy_score(y_test, lsvcL1y_pred)\n",
    "lsvcL1pre, lsvcL1re, lsvcL1f, lsvcL1sup = precision_recall_fscore_support(y_test, lsvcL1y_pred)\n",
    "lsvcL1y_proba = lsvcL1.predict(X_test)\n",
    "lsvcL1roc = roc_auc_score(y_test, lsvcL1y_proba)\n",
    "tp, fp, fn, tn = lsvcL1cm.ravel()\n",
    "lsvcL1speci = tn / (tn + fp)\n",
    "\n",
    "lsvcl2y_pred = lsvcl2.predict(X_test)\n",
    "lsvcl2cm = confusion_matrix(y_test, lsvcl2y_pred)\n",
    "lsvcl2acc = accuracy_score(y_test, lsvcl2y_pred)\n",
    "lsvcl2pre, lsvcl2re, lsvcl2f, lsvcl2sup = precision_recall_fscore_support(y_test, lsvcl2y_pred)\n",
    "lsvcl2y_proba = lsvcl2.predict(X_test)\n",
    "lsvcl2roc = roc_auc_score(y_test, lsvcl2y_proba)\n",
    "tp, fp, fn, tn = lsvcl2cm.ravel()\n",
    "lsvcl2speci = tn / (tn + fp)"
   ]
  },
  {
   "cell_type": "code",
   "execution_count": null,
   "id": "c258d7ba",
   "metadata": {},
   "outputs": [],
   "source": [
    "print(rfh[0])\n",
    "print(rfh[1])\n",
    "print(lrh[0])\n",
    "print(lrh[1])\n",
    "print(adah[0])\n",
    "print(adah[1])\n",
    "print(bagh[0])\n",
    "print(dth[0])\n",
    "print(dth[1])\n",
    "print(rbfh[0])\n",
    "print(polyh[0])\n",
    "print(sigmoidh[0])\n",
    "print(knnh[0])\n",
    "print(knnh[1])\n",
    "print(nbh[0])\n",
    "print(sgdcL1h[0])\n",
    "print(sgdcL2h[0])\n",
    "print(sgdcENh[0])\n",
    "print(lsvcL1h[0])\n",
    "print(lsvcl2h[0])"
   ]
  },
  {
   "cell_type": "code",
   "execution_count": null,
   "id": "d6479577-3c3b-4260-8369-609272255c53",
   "metadata": {},
   "outputs": [],
   "source": [
    "#accuracy\n",
    "print(round(rfacc, 3))\n",
    "print(round(lfacc, 3))\n",
    "print(round(adaacc, 3))\n",
    "print(round(bagacc, 3))\n",
    "print(round(dtacc, 3))\n",
    "print(round(rbfacc, 3))\n",
    "print(round(polyacc, 3))\n",
    "print(round(sigacc, 3))\n",
    "print(round(knnacc, 3))\n",
    "print(round(nbacc, 3))\n",
    "print(round(sgdcL1acc, 3))\n",
    "print(round(sgdcL2acc, 3))\n",
    "print(round(sgdcENacc, 3))\n",
    "print(round(lsvcL1acc, 3))\n",
    "print(round(lsvcl2acc, 3))"
   ]
  },
  {
   "cell_type": "code",
   "execution_count": null,
   "id": "c7701d43-ceb5-40ff-b28e-70540aeb23fa",
   "metadata": {},
   "outputs": [],
   "source": [
    "#Precision\n",
    "print(round(rfpre[0], 3))\n",
    "print(round(lfpre[0], 3))\n",
    "print(round(adapre[0], 3))\n",
    "print(round(bagpre[0], 3))\n",
    "print(round(dtpre[0], 3))\n",
    "print(round(rbfpre[0], 3))\n",
    "print(round(polypre[0], 3))\n",
    "print(round(sigpre[0], 3))\n",
    "print(round(knnpre[0], 3))\n",
    "print(round(nbpre[0], 3))\n",
    "print(round(sgdcL1pre[0], 3))\n",
    "print(round(sgdcL2pre[0], 3))\n",
    "print(round(sgdcENpre[0], 3))\n",
    "print(round(lsvcL1pre[0], 3))\n",
    "print(round(lsvcl2pre[0], 3))"
   ]
  },
  {
   "cell_type": "code",
   "execution_count": null,
   "id": "ce8e1ceb-6d52-4a9f-8f02-959d866e3f42",
   "metadata": {},
   "outputs": [],
   "source": [
    "#Recall\n",
    "print(round(rfre[0], 3))\n",
    "print(round(lfre[0], 3))\n",
    "print(round(adare[0], 3))\n",
    "print(round(bagre[0], 3))\n",
    "print(round(dtre[0], 3))\n",
    "print(round(rbfre[0], 3))\n",
    "print(round(polyre[0], 3))\n",
    "print(round(sigre[0], 3))\n",
    "print(round(knnre[0], 3))\n",
    "print(round(nbre[0], 3))\n",
    "print(round(sgdcL1re[0], 3))\n",
    "print(round(sgdcL2re[0], 3))\n",
    "print(round(sgdcENre[0], 3))\n",
    "print(round(lsvcL1re[0], 3))\n",
    "print(round(lsvcl2re[0], 3))"
   ]
  },
  {
   "cell_type": "code",
   "execution_count": null,
   "id": "ef3c324e-587d-44b8-9dcb-1e58659f6093",
   "metadata": {},
   "outputs": [],
   "source": [
    "#f1\n",
    "print(round(rff[0], 3))\n",
    "print(round(lff[0], 3))\n",
    "print(round(adaf[0], 3))\n",
    "print(round(bagf[0], 3))\n",
    "print(round(dtf[0], 3))\n",
    "print(round(rbff[0], 3))\n",
    "print(round(polyf[0], 3))\n",
    "print(round(sigf[0], 3))\n",
    "print(round(knnf[0], 3))\n",
    "print(round(nbf[0], 3))\n",
    "print(round(sgdcL1f[0], 3))\n",
    "print(round(sgdcL2f[0], 3))\n",
    "print(round(sgdcENf[0], 3))\n",
    "print(round(lsvcL1f[0], 3))\n",
    "print(round(lsvcl2f[0], 3))"
   ]
  },
  {
   "cell_type": "code",
   "execution_count": null,
   "id": "ad67439c-2676-4bc2-97ee-5199d3abdc8a",
   "metadata": {},
   "outputs": [],
   "source": [
    "#roc\n",
    "print(round(rfroc, 3))\n",
    "print(round(lfroc, 3))\n",
    "print(round(adaroc, 3))\n",
    "print(round(bagroc, 3))\n",
    "print(round(dtroc, 3))\n",
    "print(round(rbfroc, 3))\n",
    "print(round(polyroc, 3))\n",
    "print(round(sigroc, 3))\n",
    "print(round(knnroc, 3))\n",
    "print(round(nbroc, 3))\n",
    "print(round(sgdcL1roc, 3))\n",
    "print(round(sgdcL2roc, 3))\n",
    "print(round(sgdcENroc, 3))\n",
    "print(round(lsvcL1roc, 3))\n",
    "print(round(lsvcl2roc, 3))"
   ]
  },
  {
   "cell_type": "code",
   "execution_count": null,
   "id": "d7fc5969-d887-4fa4-a353-4f41a9bd141d",
   "metadata": {},
   "outputs": [],
   "source": [
    "#specificity\n",
    "print(round(rfspeci, 3))\n",
    "print(round(lfspeci, 3))\n",
    "print(round(adaspeci, 3))\n",
    "print(round(bagspeci, 3))\n",
    "print(round(dtspeci, 3))\n",
    "print(round(rbfspeci, 3))\n",
    "print(round(polyspeci, 3))\n",
    "print(round(sigspeci, 3))\n",
    "print(round(knnspeci, 3))\n",
    "print(round(nbspeci, 3))\n",
    "print(round(sgdcL1speci, 3))\n",
    "print(round(sgdcL2speci, 3))\n",
    "print(round(sgdcENspeci, 3))\n",
    "print(round(lsvcL1speci, 3))\n",
    "print(round(lsvcl2speci, 3))"
   ]
  },
  {
   "cell_type": "code",
   "execution_count": null,
   "id": "0c9810e9-f783-4556-b8a8-47aaf0d38375",
   "metadata": {},
   "outputs": [],
   "source": []
  }
 ],
 "metadata": {
  "kernelspec": {
   "display_name": "Python 3 (ipykernel)",
   "language": "python",
   "name": "python3"
  },
  "language_info": {
   "codemirror_mode": {
    "name": "ipython",
    "version": 3
   },
   "file_extension": ".py",
   "mimetype": "text/x-python",
   "name": "python",
   "nbconvert_exporter": "python",
   "pygments_lexer": "ipython3",
   "version": "3.9.12"
  }
 },
 "nbformat": 4,
 "nbformat_minor": 5
}
