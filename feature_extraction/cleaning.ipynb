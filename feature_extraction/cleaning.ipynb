{
 "cells": [
  {
   "cell_type": "code",
   "execution_count": null,
   "metadata": {},
   "outputs": [],
   "source": [
    "# IMPORTS\n",
    "import pandas as pd\n",
    "import numpy as np\n",
    "from urllib.parse import urlparse"
   ]
  },
  {
   "cell_type": "code",
   "execution_count": null,
   "metadata": {},
   "outputs": [],
   "source": [
    "# LOAD DATASET\n",
    "df = pd.read_csv('../data/data.csv')\n",
    "df = df.dropna(subset=['text', 'label'])\n",
    "df.head()"
   ]
  },
  {
   "cell_type": "code",
   "execution_count": null,
   "metadata": {},
   "outputs": [],
   "source": [
    "# REMOVE URLS AND PUNCTUATION\n",
    "\n",
    "# Function to remove url's\n",
    "def remove_url(text):\n",
    "    lst = [l for l in text.split() if not urlparse(l).scheme]\n",
    "    s = ' '.join(lst)\n",
    "    return s\n",
    "\n",
    "df['text'] = np.vectorize(remove_url)(df['text'])\n",
    "df['text'] = df['text'].str.replace(r'[^\\w\\s]+', '', regex=True)"
   ]
  },
  {
   "cell_type": "code",
   "execution_count": null,
   "metadata": {},
   "outputs": [],
   "source": [
    "# EXPORT\n",
    "df.to_csv('../data/data_cleaned.csv', index=False)"
   ]
  }
 ],
 "metadata": {
  "language_info": {
   "name": "python"
  },
  "orig_nbformat": 4
 },
 "nbformat": 4,
 "nbformat_minor": 2
}
