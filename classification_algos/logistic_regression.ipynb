{
 "cells": [
  {
   "cell_type": "code",
   "execution_count": 1,
   "metadata": {},
   "outputs": [],
   "source": [
    "import numpy as np\n",
    "import matplotlib.pyplot as plt\n",
    "import pandas as pd\n",
    "from sklearn.model_selection import train_test_split\n",
    "from sklearn.preprocessing import StandardScaler\n",
    "from sklearn.linear_model import LogisticRegression\n",
    "from sklearn.metrics import confusion_matrix, accuracy_score, precision_recall_fscore_support\n",
    "from sklearn.metrics import roc_auc_score"
   ]
  },
  {
   "cell_type": "code",
   "execution_count": 2,
   "metadata": {},
   "outputs": [],
   "source": [
    "dataset = pd.read_csv('../data/datasets/1.csv')\n",
    "X = dataset.iloc[:, :-1].values\n",
    "y = dataset.iloc[:, -1].values"
   ]
  },
  {
   "cell_type": "code",
   "execution_count": 3,
   "metadata": {},
   "outputs": [],
   "source": [
    "X_train, X_test, y_train, y_test = train_test_split(X, y, test_size = 0.25, random_state=0)\n",
    "# Use random state or cross validation to maintain consistency for test training data"
   ]
  },
  {
   "cell_type": "code",
   "execution_count": 4,
   "metadata": {},
   "outputs": [],
   "source": [
    "sc = StandardScaler()\n",
    "X_train = sc.fit_transform(X_train)\n",
    "X_test = sc.transform(X_test)"
   ]
  },
  {
   "cell_type": "code",
   "execution_count": 5,
   "metadata": {},
   "outputs": [
    {
     "data": {
      "text/html": [
       "<style>#sk-container-id-1 {color: black;background-color: white;}#sk-container-id-1 pre{padding: 0;}#sk-container-id-1 div.sk-toggleable {background-color: white;}#sk-container-id-1 label.sk-toggleable__label {cursor: pointer;display: block;width: 100%;margin-bottom: 0;padding: 0.3em;box-sizing: border-box;text-align: center;}#sk-container-id-1 label.sk-toggleable__label-arrow:before {content: \"▸\";float: left;margin-right: 0.25em;color: #696969;}#sk-container-id-1 label.sk-toggleable__label-arrow:hover:before {color: black;}#sk-container-id-1 div.sk-estimator:hover label.sk-toggleable__label-arrow:before {color: black;}#sk-container-id-1 div.sk-toggleable__content {max-height: 0;max-width: 0;overflow: hidden;text-align: left;background-color: #f0f8ff;}#sk-container-id-1 div.sk-toggleable__content pre {margin: 0.2em;color: black;border-radius: 0.25em;background-color: #f0f8ff;}#sk-container-id-1 input.sk-toggleable__control:checked~div.sk-toggleable__content {max-height: 200px;max-width: 100%;overflow: auto;}#sk-container-id-1 input.sk-toggleable__control:checked~label.sk-toggleable__label-arrow:before {content: \"▾\";}#sk-container-id-1 div.sk-estimator input.sk-toggleable__control:checked~label.sk-toggleable__label {background-color: #d4ebff;}#sk-container-id-1 div.sk-label input.sk-toggleable__control:checked~label.sk-toggleable__label {background-color: #d4ebff;}#sk-container-id-1 input.sk-hidden--visually {border: 0;clip: rect(1px 1px 1px 1px);clip: rect(1px, 1px, 1px, 1px);height: 1px;margin: -1px;overflow: hidden;padding: 0;position: absolute;width: 1px;}#sk-container-id-1 div.sk-estimator {font-family: monospace;background-color: #f0f8ff;border: 1px dotted black;border-radius: 0.25em;box-sizing: border-box;margin-bottom: 0.5em;}#sk-container-id-1 div.sk-estimator:hover {background-color: #d4ebff;}#sk-container-id-1 div.sk-parallel-item::after {content: \"\";width: 100%;border-bottom: 1px solid gray;flex-grow: 1;}#sk-container-id-1 div.sk-label:hover label.sk-toggleable__label {background-color: #d4ebff;}#sk-container-id-1 div.sk-serial::before {content: \"\";position: absolute;border-left: 1px solid gray;box-sizing: border-box;top: 0;bottom: 0;left: 50%;z-index: 0;}#sk-container-id-1 div.sk-serial {display: flex;flex-direction: column;align-items: center;background-color: white;padding-right: 0.2em;padding-left: 0.2em;position: relative;}#sk-container-id-1 div.sk-item {position: relative;z-index: 1;}#sk-container-id-1 div.sk-parallel {display: flex;align-items: stretch;justify-content: center;background-color: white;position: relative;}#sk-container-id-1 div.sk-item::before, #sk-container-id-1 div.sk-parallel-item::before {content: \"\";position: absolute;border-left: 1px solid gray;box-sizing: border-box;top: 0;bottom: 0;left: 50%;z-index: -1;}#sk-container-id-1 div.sk-parallel-item {display: flex;flex-direction: column;z-index: 1;position: relative;background-color: white;}#sk-container-id-1 div.sk-parallel-item:first-child::after {align-self: flex-end;width: 50%;}#sk-container-id-1 div.sk-parallel-item:last-child::after {align-self: flex-start;width: 50%;}#sk-container-id-1 div.sk-parallel-item:only-child::after {width: 0;}#sk-container-id-1 div.sk-dashed-wrapped {border: 1px dashed gray;margin: 0 0.4em 0.5em 0.4em;box-sizing: border-box;padding-bottom: 0.4em;background-color: white;}#sk-container-id-1 div.sk-label label {font-family: monospace;font-weight: bold;display: inline-block;line-height: 1.2em;}#sk-container-id-1 div.sk-label-container {text-align: center;}#sk-container-id-1 div.sk-container {/* jupyter's `normalize.less` sets `[hidden] { display: none; }` but bootstrap.min.css set `[hidden] { display: none !important; }` so we also need the `!important` here to be able to override the default hidden behavior on the sphinx rendered scikit-learn.org. See: https://github.com/scikit-learn/scikit-learn/issues/21755 */display: inline-block !important;position: relative;}#sk-container-id-1 div.sk-text-repr-fallback {display: none;}</style><div id=\"sk-container-id-1\" class=\"sk-top-container\"><div class=\"sk-text-repr-fallback\"><pre>LogisticRegression(random_state=0)</pre><b>In a Jupyter environment, please rerun this cell to show the HTML representation or trust the notebook. <br />On GitHub, the HTML representation is unable to render, please try loading this page with nbviewer.org.</b></div><div class=\"sk-container\" hidden><div class=\"sk-item\"><div class=\"sk-estimator sk-toggleable\"><input class=\"sk-toggleable__control sk-hidden--visually\" id=\"sk-estimator-id-1\" type=\"checkbox\" checked><label for=\"sk-estimator-id-1\" class=\"sk-toggleable__label sk-toggleable__label-arrow\">LogisticRegression</label><div class=\"sk-toggleable__content\"><pre>LogisticRegression(random_state=0)</pre></div></div></div></div></div>"
      ],
      "text/plain": [
       "LogisticRegression(random_state=0)"
      ]
     },
     "execution_count": 5,
     "metadata": {},
     "output_type": "execute_result"
    }
   ],
   "source": [
    "classifier = LogisticRegression(random_state = 0)\n",
    "classifier.fit(X_train, y_train)"
   ]
  },
  {
   "cell_type": "code",
   "execution_count": 6,
   "metadata": {},
   "outputs": [
    {
     "name": "stdout",
     "output_type": "stream",
     "text": [
      "[[136  14]\n",
      " [  1 137]]\n"
     ]
    },
    {
     "data": {
      "text/plain": [
       "0.9479166666666666"
      ]
     },
     "execution_count": 6,
     "metadata": {},
     "output_type": "execute_result"
    }
   ],
   "source": [
    "y_pred = classifier.predict(X_test)\n",
    "cm = confusion_matrix(y_test, y_pred)\n",
    "print(cm)\n",
    "accuracy_score(y_test, y_pred)\n"
   ]
  },
  {
   "cell_type": "code",
   "execution_count": 7,
   "metadata": {},
   "outputs": [
    {
     "data": {
      "text/plain": [
       "(array([0.99270073, 0.90728477]),\n",
       " array([0.90666667, 0.99275362]),\n",
       " array([0.94773519, 0.94809689]),\n",
       " array([150, 138]))"
      ]
     },
     "execution_count": 7,
     "metadata": {},
     "output_type": "execute_result"
    }
   ],
   "source": [
    "precision_recall_fscore_support(y_test, y_pred)"
   ]
  },
  {
   "cell_type": "code",
   "execution_count": 8,
   "metadata": {},
   "outputs": [
    {
     "data": {
      "text/plain": [
       "0.9996618357487922"
      ]
     },
     "execution_count": 8,
     "metadata": {},
     "output_type": "execute_result"
    }
   ],
   "source": [
    "clf = LogisticRegression(solver=\"liblinear\", random_state=0).fit(X_test, y_test)\n",
    "roc_auc_score(y_test, clf.predict_proba(X_test)[:, 1])"
   ]
  },
  {
   "cell_type": "code",
   "execution_count": 9,
   "metadata": {},
   "outputs": [
    {
     "name": "stdout",
     "output_type": "stream",
     "text": [
      "[[-0.46379465  0.11065208  0.26498561  0.2084819  -0.04494247  0.08685803\n",
      "  -0.41665897 -0.20665293  0.0453728   0.10333279 -0.46985272 -0.20793207\n",
      "   0.27300601 -0.11148845 -0.15761356  0.00599153 -0.00599153  0.00599153\n",
      "   0.00599153  0.00599153  0.13223201  0.00599153  0.00599153  0.0954647\n",
      "   0.6414574   0.17605915  0.00847822  0.00599153  0.00847822  0.00599153\n",
      "   0.05254068  0.1213602   0.00599153  0.00599153  0.00599153  0.10531631\n",
      "   0.21346473  0.12973089  0.00599153  0.00599153  0.12254878  0.00599153\n",
      "   0.30164377  0.18811786  0.00599153  0.00599153  0.00599153  0.2383488\n",
      "   0.00599153  0.00599153  0.00599153  0.08537035  0.00599153  0.00599153\n",
      "   0.21618819  0.0103897   0.34576364  0.09400315  0.00599153  0.01200397\n",
      "   0.50970465  0.00599153  0.00599153  0.14537581  0.0103897   0.19198304\n",
      "   0.00599153  0.00599153  0.25449532  0.0103897   0.0103897   0.00599153\n",
      "   0.00599153  0.00847822  0.08949311  0.19346366  0.00599153  0.00599153\n",
      "   0.18624214  0.00599153  0.00388835  0.0103897  -0.47283261  0.00847822\n",
      "   0.00599153  0.41326109  0.00599153 -0.51328963  0.437029    0.0103897\n",
      "  -0.56107943  0.00599153  0.22547828  0.00847822  0.0103897   0.00599153\n",
      "  -0.20282548  0.00599153  0.00599153  0.00599153  0.00599153  0.00599153\n",
      "   0.58236241  0.35472167  0.0103897  -0.19164503  0.00847822  0.00847822\n",
      "   0.00847822  0.00599153  0.00599153  0.36096866  0.23880104  0.00599153\n",
      "   0.00599153  0.00599153  0.00599153  0.00599153  0.00847822  0.00847822\n",
      "   0.31555758  0.00847822  0.00847822  0.25594943  0.16383691  0.46366053\n",
      "   0.00599153  0.00847822  0.00847822  0.4384985   0.00599153  0.34586509\n",
      "   0.00599153 -0.16798388  0.00599153  0.00599153  0.00599153  0.34263968\n",
      "   0.00599153  0.00847822  0.00599153  0.00599153  0.00599153  0.26623587\n",
      "   0.00599153  0.68426346  0.16185434  0.34607773  0.00847822  0.0103897\n",
      "   0.00599153 -0.34667917 -0.52696664  0.00599153 -0.27125963  0.00599153\n",
      "  -1.02667129  0.00599153 -0.39585224  0.29753038  0.00847822  0.00599153\n",
      "  -0.79661656 -0.1901497   0.00599153  0.00599153  0.32473385  0.26317521\n",
      "  -0.39859827 -0.49448108 -0.67244821 -0.67737036  0.00599153  0.00599153\n",
      "   0.01200397 -0.20051528 -0.18314832 -0.47165163  0.35486389  0.00847822\n",
      "  -1.1001867   0.01200397  0.65803771 -1.56467865  0.00599153  0.00599153\n",
      "   0.2037885   0.00599153  0.00599153  0.43176399 -0.3760731   0.17001488\n",
      "  -0.22665828  0.00599153  0.00847822  0.00599153  0.00847822  0.23123465\n",
      "   0.00599153  0.54394514  0.00847822  0.00847822  0.00599153  0.00599153\n",
      "   0.21292009  0.00599153 -0.29654708  0.00847822  0.00599153 -1.05807206\n",
      "   0.00599153  0.19381051  0.00599153  0.00599153  0.00599153  0.00599153\n",
      "   0.00847822  0.15051679  0.00599153  0.00599153 -0.37520101  0.34485524\n",
      "   0.0103897   0.00599153 -0.27493808  0.00599153  0.00599153  0.0103897\n",
      "  -0.44892382  0.00599153  0.00599153  0.00599153  0.19705886  0.00599153\n",
      "   0.37176648  0.00599153 -0.52950485  0.00599153 -0.28003138  0.0103897\n",
      "   0.17659582 -0.2143542  -0.39379891  0.00599153  0.00599153 -0.21867473\n",
      "   0.00847822 -0.3133314   0.00599153  0.00599153  0.00599153 -0.60159344\n",
      "   0.31176646  0.26275399 -0.65201163  0.00599153  0.00599153  0.01200397\n",
      "   0.00847822 -1.06912585 -0.48382277 -0.67460554  0.01590756  0.00599153\n",
      "   0.0103897   0.45855529  0.01471895  0.00599153  0.00847822  0.00599153\n",
      "   0.00599153  0.00599153  0.00599153  0.11489612  0.00599153  0.00599153\n",
      "   0.00599153  0.19605171  0.00599153  0.00599153  0.00599153  0.25702208\n",
      "   0.00599153]] [-0.17591038]\n"
     ]
    }
   ],
   "source": [
    "print(clf.coef_, clf.intercept_)"
   ]
  },
  {
   "cell_type": "markdown",
   "metadata": {},
   "source": []
  }
 ],
 "metadata": {
  "kernelspec": {
   "display_name": "Python 3.9.13 ('venv': venv)",
   "language": "python",
   "name": "python3"
  },
  "language_info": {
   "codemirror_mode": {
    "name": "ipython",
    "version": 3
   },
   "file_extension": ".py",
   "mimetype": "text/x-python",
   "name": "python",
   "nbconvert_exporter": "python",
   "pygments_lexer": "ipython3",
   "version": "3.9.13"
  },
  "orig_nbformat": 4,
  "vscode": {
   "interpreter": {
    "hash": "f412018736cc5fbca0418c30f45fa081fa3d585e1d6087f26a56c707e3dcc7cd"
   }
  }
 },
 "nbformat": 4,
 "nbformat_minor": 2
}
